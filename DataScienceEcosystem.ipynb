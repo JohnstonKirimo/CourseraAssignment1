{
 "cells": [
  {
   "cell_type": "markdown",
   "id": "77720a02-4e5a-4f0c-80c4-eecc75d1a59e",
   "metadata": {},
   "source": [
    "# Data Science Tools and Ecosystem"
   ]
  },
  {
   "cell_type": "markdown",
   "id": "e1dc0d12-63dc-419c-a16a-77eb368b6562",
   "metadata": {},
   "source": [
    "## Author: \n",
    "Johnston Kirimo"
   ]
  },
  {
   "cell_type": "markdown",
   "id": "653c71e8-c1eb-4990-a4c7-2e71d82abe4a",
   "metadata": {},
   "source": [
    "## In this notebook, Data Science Tools and Ecosystem are summarized."
   ]
  },
  {
   "cell_type": "markdown",
   "id": "052a31ac-d4f3-48b3-9c79-3d3736e56db0",
   "metadata": {},
   "source": [
    "## Objectives:\n",
    "\n",
    "- Popular Languages for DataScience\n",
    "- Commonly Used Libraries\n",
    "- Open Source Data Science Tools\n",
    "- Examples of Arithmetic Expressions"
   ]
  },
  {
   "cell_type": "markdown",
   "id": "c0bb1609-5b45-4e0b-97a6-1fd47234d78d",
   "metadata": {},
   "source": [
    "### Some of the popular languages that Data Scientists use are:\n",
    "\n",
    "1. Python\n",
    "2. R\n",
    "3. Java"
   ]
  },
  {
   "cell_type": "markdown",
   "id": "7f67f23a-114e-4abd-90a0-eea88fbe365b",
   "metadata": {},
   "source": [
    "### Some of the commonly used libraries used by Data Scientists include:\n",
    "\n",
    "1. Pandas\n",
    "2. Numpy\n",
    "3. Matplotlib\n",
    "4. PyTorch\n",
    "5. Scikit-learn"
   ]
  },
  {
   "cell_type": "markdown",
   "id": "e9264d9c-c390-451e-9629-64db7e03bebd",
   "metadata": {},
   "source": [
    "## \n",
    "| Data Science Tools |\n",
    "|-----------------|\n",
    "| R Studio |\n",
    "| Apache Hadoop |\n",
    "| Apache Spark |"
   ]
  },
  {
   "cell_type": "markdown",
   "id": "9c1f885c-afd6-4ad8-9377-9a5f517657ab",
   "metadata": {},
   "source": [
    "### Below are a few examples of evaluating arithmetic expressions in Python"
   ]
  },
  {
   "cell_type": "code",
   "execution_count": 17,
   "id": "dc42dff8-b36a-46c5-ac75-4d2f2ba13e01",
   "metadata": {},
   "outputs": [
    {
     "data": {
      "text/plain": [
       "17"
      ]
     },
     "execution_count": 17,
     "metadata": {},
     "output_type": "execute_result"
    }
   ],
   "source": [
    "# This a simple arithmetic expression to mutiply then add integers\n",
    "(3*4)+5"
   ]
  },
  {
   "cell_type": "code",
   "execution_count": 30,
   "id": "b54a78b0-8c26-45fb-95d7-5fa8d4a2549a",
   "metadata": {},
   "outputs": [
    {
     "data": {
      "text/plain": [
       "3"
      ]
     },
     "execution_count": 30,
     "metadata": {},
     "output_type": "execute_result"
    }
   ],
   "source": [
    "#This will convert 200 minutes to hours by diving by 60\n",
    "\n",
    "minutes = 200 \n",
    "hours = 200//60\n",
    "hours"
   ]
  },
  {
   "cell_type": "code",
   "execution_count": null,
   "id": "ed1e8f3e-dd46-4d80-a6a2-8182882a359b",
   "metadata": {},
   "outputs": [],
   "source": []
  }
 ],
 "metadata": {
  "kernelspec": {
   "display_name": "Python [conda env:base] *",
   "language": "python",
   "name": "conda-base-py"
  },
  "language_info": {
   "codemirror_mode": {
    "name": "ipython",
    "version": 3
   },
   "file_extension": ".py",
   "mimetype": "text/x-python",
   "name": "python",
   "nbconvert_exporter": "python",
   "pygments_lexer": "ipython3",
   "version": "3.12.7"
  }
 },
 "nbformat": 4,
 "nbformat_minor": 5
}
